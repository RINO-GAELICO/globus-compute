{
 "cells": [
  {
   "cell_type": "code",
   "execution_count": 2,
   "metadata": {},
   "outputs": [],
   "source": [
    "import os\n",
    "import json\n",
    "import pickle\n",
    "import base64\n",
    "import globus_sdk\n",
    "from globus_sdk.scopes import AuthScopes\n",
    "from dotenv import load_dotenv\n",
    "\n",
    "from globus_compute_sdk import Client, Executor\n",
    "from globus_compute_sdk.serialize import CombinedCode\n",
    "from globus_compute_sdk.sdk.login_manager import AuthorizerLoginManager\n",
    "from globus_compute_sdk.sdk.login_manager.manager import ComputeScopeBuilder"
   ]
  },
  {
   "cell_type": "code",
   "execution_count": 4,
   "metadata": {},
   "outputs": [],
   "source": [
    "\n",
    "ENV_PATH = \"./globus_torch.env\"\n",
    "load_dotenv(dotenv_path=ENV_PATH)\n",
    "endpoint_id_globus_torch = os.getenv(\"ENDPOINT_ID\")"
   ]
  },
  {
   "cell_type": "code",
   "execution_count": 5,
   "metadata": {},
   "outputs": [],
   "source": [
    "gc= Client(code_serialization_strategy=CombinedCode())\n",
    "gce = Executor(endpoint_id=endpoint_id_globus_torch, client=gc)"
   ]
  },
  {
   "cell_type": "code",
   "execution_count": 6,
   "metadata": {},
   "outputs": [
    {
     "name": "stdout",
     "output_type": "stream",
     "text": [
      "Submit returned:  <ComputeFuture at 0x10da4b670 state=pending>\n"
     ]
    }
   ],
   "source": [
    "# Define the function for remote execution\n",
    "def hello_world():\n",
    "    return \"Hello World!\"\n",
    "\n",
    "future = gce.submit(hello_world)\n",
    "\n",
    "print(\"Submit returned: \", future)"
   ]
  },
  {
   "cell_type": "code",
   "execution_count": 7,
   "metadata": {},
   "outputs": [
    {
     "data": {
      "text/plain": [
       "False"
      ]
     },
     "execution_count": 7,
     "metadata": {},
     "output_type": "execute_result"
    }
   ],
   "source": [
    "# Returns a boolean that indicates task completion\n",
    "future.done()"
   ]
  },
  {
   "cell_type": "code",
   "execution_count": 8,
   "metadata": {},
   "outputs": [
    {
     "name": "stderr",
     "output_type": "stream",
     "text": [
      "Warning - dependency versions are mismatched between local SDK and remote worker on endpoint 94d05d57-857e-40de-950c-1d48cf8cf29f: local SDK uses Python 3.10.4/Dill 0.3.5.1 but worker used 3.11.5/0.3.6\n",
      "(worker SDK version: 2.21.0; worker OS: Linux-5.14.21-150400.24.81_12.0.87-cray_shasta_c-x86_64-with-glibc2.31)\n"
     ]
    },
    {
     "data": {
      "text/plain": [
       "'Hello World!'"
      ]
     },
     "execution_count": 8,
     "metadata": {},
     "output_type": "execute_result"
    }
   ],
   "source": [
    "# Waits for the function to complete and returns the task result or exception on failure\n",
    "future.result()"
   ]
  },
  {
   "cell_type": "code",
   "execution_count": 9,
   "metadata": {},
   "outputs": [
    {
     "ename": "TaskExecutionFailed",
     "evalue": "\n Traceback (most recent call last):\n   File \"/global/homes/d/duccio/.local/lib/python3.11/site-packages/globus_compute_endpoint/engines/helper.py\", line 140, in _call_user_function\n     result_data = f(*args, **kwargs)\n                   ^^^^^^^^^^^^^^^^^^\n TypeError: 'int' object is not callable\n",
     "output_type": "error",
     "traceback": [
      "\u001b[0;31m---------------------------------------------------------------------------\u001b[0m",
      "\u001b[0;31mTaskExecutionFailed\u001b[0m                       Traceback (most recent call last)",
      "Cell \u001b[0;32mIn[9], line 5\u001b[0m\n\u001b[1;32m      2\u001b[0m     \u001b[38;5;28;01mreturn\u001b[39;00m a \u001b[38;5;241m+\u001b[39m b\n\u001b[1;32m      4\u001b[0m future \u001b[38;5;241m=\u001b[39m gce\u001b[38;5;241m.\u001b[39msubmit(get_sum, \u001b[38;5;241m40\u001b[39m, \u001b[38;5;241m2\u001b[39m)\n\u001b[0;32m----> 5\u001b[0m \u001b[38;5;28mprint\u001b[39m(\u001b[38;5;124mf\u001b[39m\u001b[38;5;124m\"\u001b[39m\u001b[38;5;124m40 + 2 = \u001b[39m\u001b[38;5;132;01m{\u001b[39;00mfuture\u001b[38;5;241m.\u001b[39mresult()\u001b[38;5;132;01m}\u001b[39;00m\u001b[38;5;124m\"\u001b[39m)\n",
      "File \u001b[0;32m/opt/local/Library/Frameworks/Python.framework/Versions/3.10/lib/python3.10/concurrent/futures/_base.py:446\u001b[0m, in \u001b[0;36mFuture.result\u001b[0;34m(self, timeout)\u001b[0m\n\u001b[1;32m    444\u001b[0m     \u001b[38;5;28;01mraise\u001b[39;00m CancelledError()\n\u001b[1;32m    445\u001b[0m \u001b[38;5;28;01melif\u001b[39;00m \u001b[38;5;28mself\u001b[39m\u001b[38;5;241m.\u001b[39m_state \u001b[38;5;241m==\u001b[39m FINISHED:\n\u001b[0;32m--> 446\u001b[0m     \u001b[38;5;28;01mreturn\u001b[39;00m \u001b[38;5;28;43mself\u001b[39;49m\u001b[38;5;241;43m.\u001b[39;49m\u001b[43m__get_result\u001b[49m\u001b[43m(\u001b[49m\u001b[43m)\u001b[49m\n\u001b[1;32m    447\u001b[0m \u001b[38;5;28;01melse\u001b[39;00m:\n\u001b[1;32m    448\u001b[0m     \u001b[38;5;28;01mraise\u001b[39;00m \u001b[38;5;167;01mTimeoutError\u001b[39;00m()\n",
      "File \u001b[0;32m/opt/local/Library/Frameworks/Python.framework/Versions/3.10/lib/python3.10/concurrent/futures/_base.py:391\u001b[0m, in \u001b[0;36mFuture.__get_result\u001b[0;34m(self)\u001b[0m\n\u001b[1;32m    389\u001b[0m \u001b[38;5;28;01mif\u001b[39;00m \u001b[38;5;28mself\u001b[39m\u001b[38;5;241m.\u001b[39m_exception:\n\u001b[1;32m    390\u001b[0m     \u001b[38;5;28;01mtry\u001b[39;00m:\n\u001b[0;32m--> 391\u001b[0m         \u001b[38;5;28;01mraise\u001b[39;00m \u001b[38;5;28mself\u001b[39m\u001b[38;5;241m.\u001b[39m_exception\n\u001b[1;32m    392\u001b[0m     \u001b[38;5;28;01mfinally\u001b[39;00m:\n\u001b[1;32m    393\u001b[0m         \u001b[38;5;66;03m# Break a reference cycle with the exception in self._exception\u001b[39;00m\n\u001b[1;32m    394\u001b[0m         \u001b[38;5;28mself\u001b[39m \u001b[38;5;241m=\u001b[39m \u001b[38;5;28;01mNone\u001b[39;00m\n",
      "\u001b[0;31mTaskExecutionFailed\u001b[0m: \n Traceback (most recent call last):\n   File \"/global/homes/d/duccio/.local/lib/python3.11/site-packages/globus_compute_endpoint/engines/helper.py\", line 140, in _call_user_function\n     result_data = f(*args, **kwargs)\n                   ^^^^^^^^^^^^^^^^^^\n TypeError: 'int' object is not callable\n"
     ]
    }
   ],
   "source": [
    "def get_sum(a, b):\n",
    "    return a + b\n",
    "\n",
    "future = gce.submit(get_sum, 40, 2)\n",
    "print(f\"40 + 2 = {future.result()}\")"
   ]
  },
  {
   "cell_type": "code",
   "execution_count": 18,
   "metadata": {},
   "outputs": [
    {
     "data": {
      "text/plain": [
       "{'details': {'total_workers': 0,\n",
       "  'idle_workers': 0,\n",
       "  'pending_tasks': 100,\n",
       "  'outstanding_tasks': 100,\n",
       "  'managers': 0,\n",
       "  'active_managers': 0,\n",
       "  'total_cores': 0,\n",
       "  'scaling_enabled': True,\n",
       "  'max_blocks': 1,\n",
       "  'rp_processed_timestamp': '1718297355.4591115',\n",
       "  'max_workers_per_node': 'Infinity',\n",
       "  'mem_per_worker': None,\n",
       "  'nodes_per_block': 1,\n",
       "  'scheduler_mode': 0,\n",
       "  'total_mem': 0,\n",
       "  'total_core_hrs': 0,\n",
       "  'min_blocks': 0,\n",
       "  'cores_per_worker': 1.0,\n",
       "  'prefetch_capacity': 0,\n",
       "  'new_core_hrs': 0,\n",
       "  'worker_mode': 0,\n",
       "  'heartbeat_period': 30},\n",
       " 'status': 'online'}"
      ]
     },
     "execution_count": 18,
     "metadata": {},
     "output_type": "execute_result"
    },
    {
     "name": "stderr",
     "output_type": "stream",
     "text": [
      "Channel closed.  Reopening.\n",
      "  <Channel number=1 CLOSED conn=<SelectConnection CLOSED transport=None params=<URLParameters host=compute.amqps.globus.org port=5671 virtual_host=/ ssl=True>>>\n",
      "  (Stream connection lost: SSLEOFError(8, 'EOF occurred in violation of protocol (_ssl.c:2548)'))\n",
      "Channel closed.  Reopening.\n",
      "  <Channel number=1 CLOSED conn=<SelectConnection CLOSED transport=None params=<URLParameters host=compute.amqps.globus.org port=5671 virtual_host=/ ssl=True>>>\n",
      "  (Stream connection lost: SSLEOFError(8, 'EOF occurred in violation of protocol (_ssl.c:2548)'))\n"
     ]
    }
   ],
   "source": [
    "gc.get_endpoint_status(endpoint_id_globus_torch)"
   ]
  },
  {
   "cell_type": "code",
   "execution_count": null,
   "metadata": {},
   "outputs": [],
   "source": []
  },
  {
   "cell_type": "code",
   "execution_count": null,
   "metadata": {},
   "outputs": [],
   "source": []
  }
 ],
 "metadata": {
  "kernelspec": {
   "display_name": "globus_compute_venv",
   "language": "python",
   "name": "python3"
  },
  "language_info": {
   "codemirror_mode": {
    "name": "ipython",
    "version": 3
   },
   "file_extension": ".py",
   "mimetype": "text/x-python",
   "name": "python",
   "nbconvert_exporter": "python",
   "pygments_lexer": "ipython3",
   "version": "3.10.4"
  }
 },
 "nbformat": 4,
 "nbformat_minor": 2
}
