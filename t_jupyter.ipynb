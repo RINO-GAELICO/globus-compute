{
 "cells": [
  {
   "cell_type": "code",
   "execution_count": 1,
   "metadata": {},
   "outputs": [],
   "source": [
    "from globus_compute_sdk import Executor\n",
    "from dotenv import load_dotenv\n",
    "import os\n",
    "\n",
    "ENV_PATH = \"./globus_torch.env\"\n",
    "load_dotenv(dotenv_path=ENV_PATH)\n",
    "perlmutter_endpoint = os.getenv(\"ENDPOINT_ID\")"
   ]
  },
  {
   "cell_type": "code",
   "execution_count": 2,
   "metadata": {},
   "outputs": [
    {
     "name": "stdout",
     "output_type": "stream",
     "text": [
      "Executor :  Executor<ep_id:199d0b45-5243-4301-a28c-118b3f3f0e6d; tg_id:None; bs:128>\n"
     ]
    }
   ],
   "source": [
    "tutorial_endpoint = '4b116d3c-1703-4f8f-9f6f-39921e5864df' # Public tutorial endpoint\n",
    "\n",
    "gce = Executor(endpoint_id = tutorial_endpoint)\n",
    "print(\"Executor : \", gce)"
   ]
  },
  {
   "cell_type": "code",
   "execution_count": 3,
   "metadata": {},
   "outputs": [],
   "source": [
    "gce = Executor(amqp_port=443, endpoint_id = tutorial_endpoint)\n"
   ]
  },
  {
   "cell_type": "code",
   "execution_count": 4,
   "metadata": {},
   "outputs": [
    {
     "name": "stdout",
     "output_type": "stream",
     "text": [
      "Submit returned:  <ComputeFuture at 0x10a917a50 state=pending>\n"
     ]
    }
   ],
   "source": [
    "# Define the function for remote execution\n",
    "def hello_world():\n",
    "    return \"Hello World!\"\n",
    "\n",
    "future = gce.submit(hello_world)\n",
    "\n",
    "print(\"Submit returned: \", future)"
   ]
  },
  {
   "cell_type": "code",
   "execution_count": 5,
   "metadata": {},
   "outputs": [
    {
     "data": {
      "text/plain": [
       "False"
      ]
     },
     "execution_count": 5,
     "metadata": {},
     "output_type": "execute_result"
    },
    {
     "name": "stderr",
     "output_type": "stream",
     "text": [
      "_ResultWatcher<✗; pid=48671; fut=1; res=0; qp=tg_result.1e8f93f5-7370-443a-8c24-c8e9373f3993:> AMQP reconnecting in 9.2s.  (final attempt)\n",
      "[attempt 5 (of 5)] (pid: 48671) Failed to open connection - (AMQPConnectionWorkflowFailed) \n",
      "Cancelling all known futures\n"
     ]
    }
   ],
   "source": [
    "future.done()"
   ]
  },
  {
   "cell_type": "code",
   "execution_count": null,
   "metadata": {},
   "outputs": [],
   "source": [
    "tutorial_endpoint = '199d0b45-5243-4301-a28c-118b3f3f0e6d'"
   ]
  },
  {
   "cell_type": "code",
   "execution_count": null,
   "metadata": {},
   "outputs": [],
   "source": [
    "from globus_compute_sdk import Client\n",
    "gcc = Client()\n",
    "\n",
    "gcc.get_endpoint_status(tutorial_endpoint)"
   ]
  },
  {
   "cell_type": "code",
   "execution_count": null,
   "metadata": {},
   "outputs": [],
   "source": [
    "from globus_compute_sdk import Executor\n",
    "\n",
    "def hello_world():\n",
    "    return \"Hello World!\"\n",
    "\n",
    "tutorial_endpoint_id = '4b116d3c-1703-4f8f-9f6f-39921e5864df'\n",
    "with Executor(endpoint_id=tutorial_endpoint_id) as fxe:\n",
    "    future = fxe.submit(hello_world)\n",
    "    print(future.result())"
   ]
  },
  {
   "cell_type": "code",
   "execution_count": null,
   "metadata": {},
   "outputs": [],
   "source": []
  }
 ],
 "metadata": {
  "kernelspec": {
   "display_name": "globus_compute_venv",
   "language": "python",
   "name": "python3"
  },
  "language_info": {
   "codemirror_mode": {
    "name": "ipython",
    "version": 3
   },
   "file_extension": ".py",
   "mimetype": "text/x-python",
   "name": "python",
   "nbconvert_exporter": "python",
   "pygments_lexer": "ipython3",
   "version": "3.11.1"
  }
 },
 "nbformat": 4,
 "nbformat_minor": 2
}
