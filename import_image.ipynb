{
 "cells": [
  {
   "cell_type": "code",
   "execution_count": 1,
   "metadata": {},
   "outputs": [],
   "source": [
    "import urllib\n",
    "url, filename = (\"https://github.com/pytorch/hub/raw/master/images/dog.jpg\", \"dog.jpg\")\n",
    "try: urllib.URLopener().retrieve(url, filename)\n",
    "except: urllib.request.urlretrieve(url, filename)"
   ]
  },
  {
   "cell_type": "code",
   "execution_count": 6,
   "metadata": {},
   "outputs": [],
   "source": [
    "def infer_image(image_path):\n",
    "    \n",
    "    import torch\n",
    "    from PIL import Image\n",
    "    from torchvision import transforms\n",
    "\n",
    "    # Load the model\n",
    "    model = torch.hub.load('pytorch/vision:v0.10.0', 'resnet18', pretrained=True)\n",
    "    model.eval()\n",
    "\n",
    "    # Preprocess the image\n",
    "    preprocess = transforms.Compose([\n",
    "        transforms.Resize(256),\n",
    "        transforms.CenterCrop(224),\n",
    "        transforms.ToTensor(),\n",
    "        transforms.Normalize(mean=[0.485, 0.456, 0.406], std=[0.229, 0.224, 0.225]),\n",
    "    ])\n",
    "    input_image = Image.open(image_path)\n",
    "    input_tensor = preprocess(input_image)\n",
    "    input_batch = input_tensor.unsqueeze(0)  # Create a mini-batch as expected by the model\n",
    "\n",
    "    # Move the input and model to GPU for speed if available\n",
    "    if torch.cuda.is_available():\n",
    "        input_batch = input_batch.to('cuda')\n",
    "        model.to('cuda')\n",
    "\n",
    "    # Perform inference\n",
    "    with torch.no_grad():\n",
    "        output = model(input_batch)\n",
    "\n",
    "    # Convert to probabilities\n",
    "    probabilities = torch.nn.functional.softmax(output[0], dim=0)\n",
    "\n",
    "    # Read the categories\n",
    "    with open(\"imagenet_classes.txt\", \"r\") as f:\n",
    "        categories = [s.strip() for s in f.readlines()]\n",
    "\n",
    "    # Get top 5 categories\n",
    "    top5_prob, top5_catid = torch.topk(probabilities, 5)\n",
    "    results = [(categories[top5_catid[i]], top5_prob[i].item()) for i in range(top5_prob.size(0))]\n",
    "\n",
    "    return results"
   ]
  },
  {
   "cell_type": "code",
   "execution_count": 3,
   "metadata": {},
   "outputs": [],
   "source": [
    "from globus_compute_sdk.serialize import CombinedCode\n",
    "from globus_compute_sdk import Client\n",
    "from globus_compute_sdk import Executor\n",
    "\n",
    "c= Client(code_serialization_strategy=CombinedCode())\n"
   ]
  },
  {
   "cell_type": "code",
   "execution_count": 1,
   "metadata": {},
   "outputs": [],
   "source": [
    "import os\n",
    "from dotenv import load_dotenv\n",
    "\n",
    "ENV_PATH = \"./globus_torch.env\"\n",
    "load_dotenv(dotenv_path=ENV_PATH)\n",
    "perlmutter_endpoint = os.getenv(\"ENDPOINT_ID\")"
   ]
  },
  {
   "cell_type": "code",
   "execution_count": 14,
   "metadata": {},
   "outputs": [],
   "source": [
    "def check_environment():\n",
    "    import sys\n",
    "    import subprocess\n",
    "\n",
    "    environment_details = {}\n",
    "\n",
    "    # # Get Python version\n",
    "    # python_version = sys.version\n",
    "    # environment_details[\"python_version\"] = python_version\n",
    "\n",
    "    # # Get Conda environment details\n",
    "    # try:\n",
    "    #     conda_list = subprocess.check_output(['conda', 'list']).decode('utf-8')\n",
    "    #     environment_details[\"conda_list\"] = conda_list\n",
    "    # except Exception as e:\n",
    "    #     environment_details[\"conda_list_error\"] = str(e)\n",
    "\n",
    "    # # Get pip installed packages\n",
    "    # try:\n",
    "    #     pip_list = subprocess.check_output([sys.executable, '-m', 'pip', 'list']).decode('utf-8')\n",
    "    #     environment_details[\"pip_list\"] = pip_list\n",
    "    # except Exception as e:\n",
    "    #     environment_details[\"pip_list_error\"] = str(e)\n",
    "\n",
    "    # Get system PATH\n",
    "    path = sys.path\n",
    "    environment_details[\"system_path\"] = path\n",
    "\n",
    "    return environment_details"
   ]
  },
  {
   "cell_type": "code",
   "execution_count": 17,
   "metadata": {},
   "outputs": [
    {
     "ename": "TaskExecutionFailed",
     "evalue": "\n ++++++++++++++++++++++++++++++++++++++++++++++++++++++++++++++++++++\n Traceback from attempt: 1\n Traceback (most recent call last):\n   File \"/global/common/software/nersc/pe/conda/24.1.0/Miniconda3-py311_23.11.0-2/lib/python3.11/concurrent/futures/_base.py\", line 401, in __get_result\n     raise self._exception\n   File \"/global/homes/d/duccio/.local/lib/python3.11/site-packages/parsl/executors/high_throughput/executor.py\", line 520, in _queue_management_worker\n     s.reraise()\n   File \"/global/homes/d/duccio/.local/lib/python3.11/site-packages/parsl/app/errors.py\", line 118, in reraise\n     raise v\n   File \"/global/homes/d/duccio/.local/bin/process_worker_pool.py\", line 446, in worker_watchdog\n     raise WorkerLost(worker_id, platform.node())\n     ^^^^^^^^^^^^^^^^^\n parsl.executors.high_throughput.errors.WorkerLost: Task failure due to loss of worker 3 on host nid002965\n\n --------------------------------------------------------------------++++++++++++++++++++++++++++++++++++++++++++++++++++++++++++++++++++\n Traceback from attempt: 2\n Traceback (most recent call last):\n   File \"/global/common/software/nersc/pe/conda/24.1.0/Miniconda3-py311_23.11.0-2/lib/python3.11/concurrent/futures/_base.py\", line 401, in __get_result\n     raise self._exception\n   File \"/global/homes/d/duccio/.local/lib/python3.11/site-packages/parsl/executors/high_throughput/executor.py\", line 520, in _queue_management_worker\n     s.reraise()\n   File \"/global/homes/d/duccio/.local/lib/python3.11/site-packages/parsl/app/errors.py\", line 118, in reraise\n     raise v\n   File \"/global/homes/d/duccio/.local/bin/process_worker_pool.py\", line 446, in worker_watchdog\n     raise WorkerLost(worker_id, platform.node())\n     ^^^^^^^^^^^^^^^^^\n parsl.executors.high_throughput.errors.WorkerLost: Task failure due to loss of worker 2 on host nid002965\n\n --------------------------------------------------------------------++++++++++++++++++++++++++++++++++++++++++++++++++++++++++++++++++++\n Traceback from attempt: final attempt\n Traceback (most recent call last):\n   File \"/global/common/software/nersc/pe/conda/24.1.0/Miniconda3-py311_23.11.0-2/lib/python3.11/concurrent/futures/_base.py\", line 401, in __get_result\n     raise self._exception\n   File \"/global/homes/d/duccio/.local/lib/python3.11/site-packages/parsl/executors/high_throughput/executor.py\", line 520, in _queue_management_worker\n     s.reraise()\n   File \"/global/homes/d/duccio/.local/lib/python3.11/site-packages/parsl/app/errors.py\", line 118, in reraise\n     raise v\n   File \"/global/homes/d/duccio/.local/bin/process_worker_pool.py\", line 446, in worker_watchdog\n     raise WorkerLost(worker_id, platform.node())\n     ^^^^^^^^^^^^^^^^^\n parsl.executors.high_throughput.errors.WorkerLost: Task failure due to loss of worker 0 on host nid002965\n\n --------------------------------------------------------------------",
     "output_type": "error",
     "traceback": [
      "\u001b[0;31m---------------------------------------------------------------------------\u001b[0m",
      "\u001b[0;31mTaskExecutionFailed\u001b[0m                       Traceback (most recent call last)",
      "Cell \u001b[0;32mIn[17], line 6\u001b[0m\n\u001b[1;32m      3\u001b[0m future \u001b[38;5;241m=\u001b[39m gce\u001b[38;5;241m.\u001b[39msubmit(check_environment)  \n\u001b[1;32m      5\u001b[0m \u001b[38;5;66;03m# ... and finally, wait for the result\u001b[39;00m\n\u001b[0;32m----> 6\u001b[0m \u001b[38;5;28mprint\u001b[39m(\u001b[43mfuture\u001b[49m\u001b[38;5;241;43m.\u001b[39;49m\u001b[43mresult\u001b[49m\u001b[43m(\u001b[49m\u001b[43m)\u001b[49m)\n",
      "File \u001b[0;32m/opt/local/Library/Frameworks/Python.framework/Versions/3.10/lib/python3.10/concurrent/futures/_base.py:446\u001b[0m, in \u001b[0;36mFuture.result\u001b[0;34m(self, timeout)\u001b[0m\n\u001b[1;32m    444\u001b[0m     \u001b[38;5;28;01mraise\u001b[39;00m CancelledError()\n\u001b[1;32m    445\u001b[0m \u001b[38;5;28;01melif\u001b[39;00m \u001b[38;5;28mself\u001b[39m\u001b[38;5;241m.\u001b[39m_state \u001b[38;5;241m==\u001b[39m FINISHED:\n\u001b[0;32m--> 446\u001b[0m     \u001b[38;5;28;01mreturn\u001b[39;00m \u001b[38;5;28;43mself\u001b[39;49m\u001b[38;5;241;43m.\u001b[39;49m\u001b[43m__get_result\u001b[49m\u001b[43m(\u001b[49m\u001b[43m)\u001b[49m\n\u001b[1;32m    447\u001b[0m \u001b[38;5;28;01melse\u001b[39;00m:\n\u001b[1;32m    448\u001b[0m     \u001b[38;5;28;01mraise\u001b[39;00m \u001b[38;5;167;01mTimeoutError\u001b[39;00m()\n",
      "File \u001b[0;32m/opt/local/Library/Frameworks/Python.framework/Versions/3.10/lib/python3.10/concurrent/futures/_base.py:391\u001b[0m, in \u001b[0;36mFuture.__get_result\u001b[0;34m(self)\u001b[0m\n\u001b[1;32m    389\u001b[0m \u001b[38;5;28;01mif\u001b[39;00m \u001b[38;5;28mself\u001b[39m\u001b[38;5;241m.\u001b[39m_exception:\n\u001b[1;32m    390\u001b[0m     \u001b[38;5;28;01mtry\u001b[39;00m:\n\u001b[0;32m--> 391\u001b[0m         \u001b[38;5;28;01mraise\u001b[39;00m \u001b[38;5;28mself\u001b[39m\u001b[38;5;241m.\u001b[39m_exception\n\u001b[1;32m    392\u001b[0m     \u001b[38;5;28;01mfinally\u001b[39;00m:\n\u001b[1;32m    393\u001b[0m         \u001b[38;5;66;03m# Break a reference cycle with the exception in self._exception\u001b[39;00m\n\u001b[1;32m    394\u001b[0m         \u001b[38;5;28mself\u001b[39m \u001b[38;5;241m=\u001b[39m \u001b[38;5;28;01mNone\u001b[39;00m\n",
      "\u001b[0;31mTaskExecutionFailed\u001b[0m: \n ++++++++++++++++++++++++++++++++++++++++++++++++++++++++++++++++++++\n Traceback from attempt: 1\n Traceback (most recent call last):\n   File \"/global/common/software/nersc/pe/conda/24.1.0/Miniconda3-py311_23.11.0-2/lib/python3.11/concurrent/futures/_base.py\", line 401, in __get_result\n     raise self._exception\n   File \"/global/homes/d/duccio/.local/lib/python3.11/site-packages/parsl/executors/high_throughput/executor.py\", line 520, in _queue_management_worker\n     s.reraise()\n   File \"/global/homes/d/duccio/.local/lib/python3.11/site-packages/parsl/app/errors.py\", line 118, in reraise\n     raise v\n   File \"/global/homes/d/duccio/.local/bin/process_worker_pool.py\", line 446, in worker_watchdog\n     raise WorkerLost(worker_id, platform.node())\n     ^^^^^^^^^^^^^^^^^\n parsl.executors.high_throughput.errors.WorkerLost: Task failure due to loss of worker 3 on host nid002965\n\n --------------------------------------------------------------------++++++++++++++++++++++++++++++++++++++++++++++++++++++++++++++++++++\n Traceback from attempt: 2\n Traceback (most recent call last):\n   File \"/global/common/software/nersc/pe/conda/24.1.0/Miniconda3-py311_23.11.0-2/lib/python3.11/concurrent/futures/_base.py\", line 401, in __get_result\n     raise self._exception\n   File \"/global/homes/d/duccio/.local/lib/python3.11/site-packages/parsl/executors/high_throughput/executor.py\", line 520, in _queue_management_worker\n     s.reraise()\n   File \"/global/homes/d/duccio/.local/lib/python3.11/site-packages/parsl/app/errors.py\", line 118, in reraise\n     raise v\n   File \"/global/homes/d/duccio/.local/bin/process_worker_pool.py\", line 446, in worker_watchdog\n     raise WorkerLost(worker_id, platform.node())\n     ^^^^^^^^^^^^^^^^^\n parsl.executors.high_throughput.errors.WorkerLost: Task failure due to loss of worker 2 on host nid002965\n\n --------------------------------------------------------------------++++++++++++++++++++++++++++++++++++++++++++++++++++++++++++++++++++\n Traceback from attempt: final attempt\n Traceback (most recent call last):\n   File \"/global/common/software/nersc/pe/conda/24.1.0/Miniconda3-py311_23.11.0-2/lib/python3.11/concurrent/futures/_base.py\", line 401, in __get_result\n     raise self._exception\n   File \"/global/homes/d/duccio/.local/lib/python3.11/site-packages/parsl/executors/high_throughput/executor.py\", line 520, in _queue_management_worker\n     s.reraise()\n   File \"/global/homes/d/duccio/.local/lib/python3.11/site-packages/parsl/app/errors.py\", line 118, in reraise\n     raise v\n   File \"/global/homes/d/duccio/.local/bin/process_worker_pool.py\", line 446, in worker_watchdog\n     raise WorkerLost(worker_id, platform.node())\n     ^^^^^^^^^^^^^^^^^\n parsl.executors.high_throughput.errors.WorkerLost: Task failure due to loss of worker 0 on host nid002965\n\n --------------------------------------------------------------------"
     ]
    }
   ],
   "source": [
    "with Executor(endpoint_id=perlmutter_endpoint, funcx_client=c) as gce:\n",
    "    # ... then submit for execution, ...\n",
    "    future = gce.submit(check_environment)  \n",
    "\n",
    "    # ... and finally, wait for the result\n",
    "    print(future.result())\n"
   ]
  },
  {
   "cell_type": "code",
   "execution_count": 15,
   "metadata": {},
   "outputs": [
    {
     "ename": "TaskExecutionFailed",
     "evalue": "\n Traceback (most recent call last):\n   File \"/global/homes/d/duccio/.local/lib/python3.11/site-packages/globus_compute_endpoint/engines/helper.py\", line 140, in _call_user_function\n     result_data = f(*args, **kwargs)\n                   ^^^^^^^^^^^^^^^^^^\n TypeError: 'int' object is not subscriptable\n",
     "output_type": "error",
     "traceback": [
      "\u001b[0;31m---------------------------------------------------------------------------\u001b[0m",
      "\u001b[0;31mTaskExecutionFailed\u001b[0m                       Traceback (most recent call last)",
      "Cell \u001b[0;32mIn[15], line 8\u001b[0m\n\u001b[1;32m      5\u001b[0m future \u001b[38;5;241m=\u001b[39m gce\u001b[38;5;241m.\u001b[39msubmit(add_func, \u001b[38;5;241m5\u001b[39m, \u001b[38;5;241m10\u001b[39m)\n\u001b[1;32m      7\u001b[0m \u001b[38;5;66;03m# Wait for the result\u001b[39;00m\n\u001b[0;32m----> 8\u001b[0m result \u001b[38;5;241m=\u001b[39m \u001b[43mfuture\u001b[49m\u001b[38;5;241;43m.\u001b[39;49m\u001b[43mresult\u001b[49m\u001b[43m(\u001b[49m\u001b[43m)\u001b[49m\n\u001b[1;32m      9\u001b[0m \u001b[38;5;28mprint\u001b[39m(result)\n",
      "File \u001b[0;32m/opt/local/Library/Frameworks/Python.framework/Versions/3.10/lib/python3.10/concurrent/futures/_base.py:446\u001b[0m, in \u001b[0;36mFuture.result\u001b[0;34m(self, timeout)\u001b[0m\n\u001b[1;32m    444\u001b[0m     \u001b[38;5;28;01mraise\u001b[39;00m CancelledError()\n\u001b[1;32m    445\u001b[0m \u001b[38;5;28;01melif\u001b[39;00m \u001b[38;5;28mself\u001b[39m\u001b[38;5;241m.\u001b[39m_state \u001b[38;5;241m==\u001b[39m FINISHED:\n\u001b[0;32m--> 446\u001b[0m     \u001b[38;5;28;01mreturn\u001b[39;00m \u001b[38;5;28;43mself\u001b[39;49m\u001b[38;5;241;43m.\u001b[39;49m\u001b[43m__get_result\u001b[49m\u001b[43m(\u001b[49m\u001b[43m)\u001b[49m\n\u001b[1;32m    447\u001b[0m \u001b[38;5;28;01melse\u001b[39;00m:\n\u001b[1;32m    448\u001b[0m     \u001b[38;5;28;01mraise\u001b[39;00m \u001b[38;5;167;01mTimeoutError\u001b[39;00m()\n",
      "File \u001b[0;32m/opt/local/Library/Frameworks/Python.framework/Versions/3.10/lib/python3.10/concurrent/futures/_base.py:391\u001b[0m, in \u001b[0;36mFuture.__get_result\u001b[0;34m(self)\u001b[0m\n\u001b[1;32m    389\u001b[0m \u001b[38;5;28;01mif\u001b[39;00m \u001b[38;5;28mself\u001b[39m\u001b[38;5;241m.\u001b[39m_exception:\n\u001b[1;32m    390\u001b[0m     \u001b[38;5;28;01mtry\u001b[39;00m:\n\u001b[0;32m--> 391\u001b[0m         \u001b[38;5;28;01mraise\u001b[39;00m \u001b[38;5;28mself\u001b[39m\u001b[38;5;241m.\u001b[39m_exception\n\u001b[1;32m    392\u001b[0m     \u001b[38;5;28;01mfinally\u001b[39;00m:\n\u001b[1;32m    393\u001b[0m         \u001b[38;5;66;03m# Break a reference cycle with the exception in self._exception\u001b[39;00m\n\u001b[1;32m    394\u001b[0m         \u001b[38;5;28mself\u001b[39m \u001b[38;5;241m=\u001b[39m \u001b[38;5;28;01mNone\u001b[39;00m\n",
      "\u001b[0;31mTaskExecutionFailed\u001b[0m: \n Traceback (most recent call last):\n   File \"/global/homes/d/duccio/.local/lib/python3.11/site-packages/globus_compute_endpoint/engines/helper.py\", line 140, in _call_user_function\n     result_data = f(*args, **kwargs)\n                   ^^^^^^^^^^^^^^^^^^\n TypeError: 'int' object is not subscriptable\n"
     ]
    }
   ],
   "source": [
    "with Executor(endpoint_id=perlmutter_endpoint, funcx_client=c) as gce:\n",
    "    # Submit the function for execution\n",
    "    image_path = 'dog.jpg'  # Change to your image path\n",
    "    # future = gce.submit(infer_image, image_path)\n",
    "    future = gce.submit(infer_image, image_path)\n",
    "\n",
    "    # Wait for the result\n",
    "    result = future.result()\n",
    "    print(result)"
   ]
  },
  {
   "cell_type": "code",
   "execution_count": null,
   "metadata": {},
   "outputs": [],
   "source": []
  }
 ],
 "metadata": {
  "kernelspec": {
   "display_name": "Python 3",
   "language": "python",
   "name": "python3"
  },
  "language_info": {
   "codemirror_mode": {
    "name": "ipython",
    "version": 3
   },
   "file_extension": ".py",
   "mimetype": "text/x-python",
   "name": "python",
   "nbconvert_exporter": "python",
   "pygments_lexer": "ipython3",
   "version": "3.10.4"
  }
 },
 "nbformat": 4,
 "nbformat_minor": 2
}
